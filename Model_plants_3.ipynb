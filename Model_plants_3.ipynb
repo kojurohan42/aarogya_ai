{
  "nbformat": 4,
  "nbformat_minor": 0,
  "metadata": {
    "colab": {
      "provenance": []
    },
    "kernelspec": {
      "name": "python3",
      "display_name": "Python 3"
    },
    "language_info": {
      "name": "python"
    }
  },
  "cells": [
    {
      "cell_type": "code",
      "execution_count": 1,
      "metadata": {
        "id": "JV3O5H8ikgh8"
      },
      "outputs": [],
      "source": [
        "import os\n",
        "from tensorflow.keras.optimizers import Adam\n",
        "from tensorflow.keras.models import Sequential\n",
        "from tensorflow.keras.models import load_model\n",
        "from tensorflow.keras.preprocessing.image import ImageDataGenerator\n",
        "from tensorflow.keras.callbacks import ModelCheckpoint, ReduceLROnPlateau, CSVLogger, EarlyStopping\n",
        "from tensorflow.keras.layers import Conv2D, MaxPooling2D, Flatten, Dense, Dropout\n",
        "import tensorflow as tf"
      ]
    },
    {
      "cell_type": "code",
      "source": [
        "from google.colab import drive\n",
        "drive.mount(\"/content/gdrive\", force_remount=True)\n"
      ],
      "metadata": {
        "colab": {
          "base_uri": "https://localhost:8080/"
        },
        "id": "UCF9q4F4k4Mg",
        "outputId": "177016b5-e313-4ff5-c0de-d6446d1c7918"
      },
      "execution_count": 2,
      "outputs": [
        {
          "output_type": "stream",
          "name": "stdout",
          "text": [
            "Mounted at /content/gdrive\n"
          ]
        }
      ]
    },
    {
      "cell_type": "code",
      "source": [
        "%cd /content/gdrive/MyDrive/"
      ],
      "metadata": {
        "colab": {
          "base_uri": "https://localhost:8080/"
        },
        "id": "axyjRDIsmwUG",
        "outputId": "1f2ab2c4-1bde-475e-a283-dbb3d8b52f31"
      },
      "execution_count": 3,
      "outputs": [
        {
          "output_type": "stream",
          "name": "stdout",
          "text": [
            "/content/gdrive/MyDrive\n"
          ]
        }
      ]
    },
    {
      "cell_type": "code",
      "source": [
        "class_names = ['Basale',\n",
        "               'Guava',\n",
        "               'Neem',\n",
        "               'Sandalwood',\n",
        "               'Tulsi']\n",
        "# class_names_label = {class_name:i for i, class_name in enumerate(class_names)}\n",
        "\n",
        "# nb_classes = len(class_names)\n",
        "\n",
        "# IMAGE_SIZE = (150, 150)"
      ],
      "metadata": {
        "id": "LlZH3G__vYhc"
      },
      "execution_count": 4,
      "outputs": []
    },
    {
      "cell_type": "code",
      "source": [
        "trainDataGen = ImageDataGenerator(rotation_range=10,\n",
        "                                  width_shift_range=0.3,\n",
        "                                  height_shift_range=0.3,\n",
        "                                  rescale=1.0 / 255,\n",
        "                                  shear_range=0.3,\n",
        "                                  zoom_range=0.3,\n",
        "                                  horizontal_flip=True,\n",
        "                                  fill_mode='nearest')\n",
        "\n",
        "testDataGen = ImageDataGenerator(rescale=1.0 / 255)\n",
        "\n",
        "trainGenerator = trainDataGen.flow_from_directory(os.path.join('Dataset', 'Train'),\n",
        "                                                  target_size=(150, 150),\n",
        "                                                  batch_size=32,\n",
        "                                                  color_mode='rgb',\n",
        "                                                  classes=[str(Class)\n",
        "                                                           for Class in range(5)],\n",
        "                                                  class_mode='categorical')\n",
        "\n",
        "validationGenerator = testDataGen.flow_from_directory(os.path.join('Dataset', 'Validation'),\n",
        "                                                      target_size=(150, 150),\n",
        "                                                      batch_size=32,\n",
        "                                                      color_mode='rgb',\n",
        "                                                      classes=[\n",
        "                                                          str(Class) for Class in range(5)],\n",
        "                                                      class_mode='categorical')"
      ],
      "metadata": {
        "colab": {
          "base_uri": "https://localhost:8080/"
        },
        "id": "cXZqla24k3Dn",
        "outputId": "4c81c980-b327-4912-ab0a-9489b59a453d"
      },
      "execution_count": 9,
      "outputs": [
        {
          "output_type": "stream",
          "name": "stdout",
          "text": [
            "Found 303 images belonging to 5 classes.\n",
            "Found 35 images belonging to 5 classes.\n"
          ]
        }
      ]
    },
    {
      "cell_type": "code",
      "source": [
        "\n",
        "model = Sequential()\n",
        "\n",
        "model.add(Conv2D(32, (3, 3), strides = 1, activation = 'relu', input_shape = (150, 150, 3)))\n",
        "model.add(Conv2D(32, (3, 3), strides = 1, activation = 'relu'))\n",
        "model.add(MaxPooling2D((2, 2), strides = (2, 2), padding = 'same'))\n",
        "\n",
        "model.add(Conv2D(64, (3, 3), strides = 1, activation = 'relu'))\n",
        "model.add(Conv2D(64, (3, 3), strides = 1, activation = 'relu'))\n",
        "model.add(MaxPooling2D((2, 2), strides = (2, 2), padding = 'same'))\n",
        "\n",
        "model.add(Flatten())\n",
        "\n",
        "model.add(Dense(128, activation = 'relu', kernel_initializer = 'he_uniform'))\n",
        "model.add(Dropout(0.1))\n",
        "\n",
        "model.add(Dense(5, activation = 'softmax'))\n",
        "\n",
        "model.compile(optimizer = Adam(learning_rate = 1e-3, decay = 1e-5), loss = 'categorical_crossentropy', metrics = ['accuracy'])\n"
      ],
      "metadata": {
        "id": "XSQNRl5HluXn"
      },
      "execution_count": 10,
      "outputs": []
    },
    {
      "cell_type": "code",
      "source": [
        "\n",
        "if not os.path.isdir('Model_3'):\n",
        "    os.mkdir('Model_3')\n",
        "\n",
        "callbacks = [ReduceLROnPlateau(monitor='val_loss', factor=0.1,\n",
        "                               patience=7, min_lr=1e-5),\n",
        "             EarlyStopping(monitor='val_loss', patience=9,  # Patience should be larger than the one in ReduceLROnPlateau\n",
        "                           min_delta=1e-5),\n",
        "             CSVLogger(os.path.join('Model_3', 'training.log'), append=True),\n",
        "             ModelCheckpoint(os.path.join(\n",
        "                 'Model_3', 'backup_last_model.hdf5')),\n",
        "             ModelCheckpoint(os.path.join('Model_3', 'best_val_acc.hdf5'),\n",
        "                             monitor='val_accuracy', mode='max', save_best_only=True),\n",
        "             ModelCheckpoint(os.path.join('Model_3', 'best_val_loss.hdf5'), monitor='val_loss', mode='min', save_best_only=True)]\n",
        "\n",
        "model.fit(trainGenerator, epochs=20,\n",
        "          validation_data=validationGenerator, callbacks=callbacks)\n"
      ],
      "metadata": {
        "colab": {
          "base_uri": "https://localhost:8080/"
        },
        "id": "1NXVpy9Wl9Sb",
        "outputId": "dab164dd-8358-48aa-9d0c-482c81b380cd"
      },
      "execution_count": 11,
      "outputs": [
        {
          "output_type": "stream",
          "name": "stdout",
          "text": [
            "Epoch 1/20\n",
            "10/10 [==============================] - 30s 3s/step - loss: 2.1210 - accuracy: 0.2376 - val_loss: 1.6062 - val_accuracy: 0.2000 - lr: 0.0010\n",
            "Epoch 2/20\n",
            "10/10 [==============================] - 26s 2s/step - loss: 1.5894 - accuracy: 0.3201 - val_loss: 1.6841 - val_accuracy: 0.2000 - lr: 0.0010\n",
            "Epoch 3/20\n",
            "10/10 [==============================] - 27s 3s/step - loss: 1.5972 - accuracy: 0.2376 - val_loss: 1.6398 - val_accuracy: 0.2000 - lr: 0.0010\n",
            "Epoch 4/20\n",
            "10/10 [==============================] - 27s 3s/step - loss: 1.5714 - accuracy: 0.3036 - val_loss: 1.6232 - val_accuracy: 0.2000 - lr: 0.0010\n",
            "Epoch 5/20\n",
            "10/10 [==============================] - 29s 3s/step - loss: 1.5611 - accuracy: 0.3333 - val_loss: 1.5267 - val_accuracy: 0.3143 - lr: 0.0010\n",
            "Epoch 6/20\n",
            "10/10 [==============================] - 29s 3s/step - loss: 1.4389 - accuracy: 0.3564 - val_loss: 1.4934 - val_accuracy: 0.2286 - lr: 0.0010\n",
            "Epoch 7/20\n",
            "10/10 [==============================] - 29s 3s/step - loss: 1.4536 - accuracy: 0.3729 - val_loss: 1.2828 - val_accuracy: 0.5714 - lr: 0.0010\n",
            "Epoch 8/20\n",
            "10/10 [==============================] - 27s 3s/step - loss: 1.2904 - accuracy: 0.4356 - val_loss: 1.2211 - val_accuracy: 0.3714 - lr: 0.0010\n",
            "Epoch 9/20\n",
            "10/10 [==============================] - 26s 3s/step - loss: 1.3325 - accuracy: 0.3960 - val_loss: 1.3210 - val_accuracy: 0.4000 - lr: 0.0010\n",
            "Epoch 10/20\n",
            "10/10 [==============================] - 29s 3s/step - loss: 1.2342 - accuracy: 0.4686 - val_loss: 1.1717 - val_accuracy: 0.5143 - lr: 0.0010\n",
            "Epoch 11/20\n",
            "10/10 [==============================] - 29s 3s/step - loss: 1.2608 - accuracy: 0.4752 - val_loss: 1.2783 - val_accuracy: 0.4857 - lr: 0.0010\n",
            "Epoch 12/20\n",
            "10/10 [==============================] - 30s 3s/step - loss: 1.2892 - accuracy: 0.4257 - val_loss: 1.1011 - val_accuracy: 0.6286 - lr: 0.0010\n",
            "Epoch 13/20\n",
            "10/10 [==============================] - 26s 3s/step - loss: 1.1977 - accuracy: 0.4686 - val_loss: 1.1370 - val_accuracy: 0.4571 - lr: 0.0010\n",
            "Epoch 14/20\n",
            "10/10 [==============================] - 28s 3s/step - loss: 1.0800 - accuracy: 0.5545 - val_loss: 0.8949 - val_accuracy: 0.5714 - lr: 0.0010\n",
            "Epoch 15/20\n",
            "10/10 [==============================] - 28s 3s/step - loss: 1.0250 - accuracy: 0.5809 - val_loss: 0.8999 - val_accuracy: 0.6571 - lr: 0.0010\n",
            "Epoch 16/20\n",
            "10/10 [==============================] - 26s 3s/step - loss: 1.1462 - accuracy: 0.5248 - val_loss: 1.2535 - val_accuracy: 0.4000 - lr: 0.0010\n",
            "Epoch 17/20\n",
            "10/10 [==============================] - 26s 3s/step - loss: 1.1614 - accuracy: 0.5116 - val_loss: 0.9859 - val_accuracy: 0.6000 - lr: 0.0010\n",
            "Epoch 18/20\n",
            "10/10 [==============================] - 27s 3s/step - loss: 0.9781 - accuracy: 0.5809 - val_loss: 0.9624 - val_accuracy: 0.5714 - lr: 0.0010\n",
            "Epoch 19/20\n",
            "10/10 [==============================] - 29s 3s/step - loss: 0.9424 - accuracy: 0.6172 - val_loss: 0.6654 - val_accuracy: 0.6857 - lr: 0.0010\n",
            "Epoch 20/20\n",
            "10/10 [==============================] - 27s 3s/step - loss: 0.9411 - accuracy: 0.6370 - val_loss: 0.8081 - val_accuracy: 0.6286 - lr: 0.0010\n"
          ]
        },
        {
          "output_type": "execute_result",
          "data": {
            "text/plain": [
              "<keras.callbacks.History at 0x7f596a906160>"
            ]
          },
          "metadata": {},
          "execution_count": 11
        }
      ]
    },
    {
      "cell_type": "code",
      "source": [
        "model = load_model(os.path.join('Model_3', 'best_val_loss.hdf5'))\n",
        "loss, acc = model.evaluate(validationGenerator)\n",
        "print('Loss on Validation Data : ', loss)\n",
        "print('Accuracy on Validation Data :', '{:.4%}'.format(acc))  "
      ],
      "metadata": {
        "colab": {
          "base_uri": "https://localhost:8080/"
        },
        "id": "TBs5gtmxl-Nk",
        "outputId": "237b5688-cc46-49ab-d494-8574ed45fab8"
      },
      "execution_count": 12,
      "outputs": [
        {
          "output_type": "stream",
          "name": "stdout",
          "text": [
            "2/2 [==============================] - 1s 59ms/step - loss: 0.6654 - accuracy: 0.6857\n",
            "Loss on Validation Data :  0.6654469966888428\n",
            "Accuracy on Validation Data : 68.5714%\n"
          ]
        }
      ]
    },
    {
      "cell_type": "code",
      "source": [
        "import numpy as np\n",
        "import PIL.ImageOps as ImageOps\n",
        "import PIL.Image as Image\n",
        "import matplotlib.pyplot as plt"
      ],
      "metadata": {
        "id": "zDvrv0BZogHb"
      },
      "execution_count": 13,
      "outputs": []
    },
    {
      "cell_type": "code",
      "source": [],
      "metadata": {
        "id": "YBvgaFK7r2HT"
      },
      "execution_count": null,
      "outputs": []
    },
    {
      "cell_type": "code",
      "source": [
        "data = np.ndarray(shape=(1, 150, 150, 3), dtype=np.float32)\n",
        "\n",
        "class_names = ['Basale',\n",
        "               'Guava',\n",
        "               'Neem',\n",
        "               'Sandalwood',\n",
        "               'Tulsi']\n",
        "image = Image.open('/content/gdrive/MyDrive/plant_dataset/Neem/AI-S-008.jpg')\n",
        "#image sizing\n",
        "# image = ImageOps.grayscale(image)\n",
        "\n",
        "size = (150, 150)\n",
        "image = ImageOps.fit(image, size, Image.ANTIALIAS)\n",
        "\n",
        "#turn the image into a numpy array\n",
        "image_array = np.asarray(image)\n",
        "# np.reshape(image_array, newshape=(150, 150,3))\n",
        "# Normalize the image\n",
        "normalized_image_array = (image_array.astype(np.float32) / 127.0) - 1\n",
        "print(normalized_image_array.shape)\n",
        "# Load the image into the array\n",
        "data[0] = normalized_image_array\n",
        "\n",
        "# run the inference\n",
        "prediction = model.predict(data)\n",
        "pred_label = np.argmax(prediction, axis = 1) # We take the highest probability\n",
        "class_prediction = class_names[pred_label[0]]"
      ],
      "metadata": {
        "colab": {
          "base_uri": "https://localhost:8080/"
        },
        "id": "sOI-ncjHoIhs",
        "outputId": "45f4e070-922d-4e11-f981-555e610a37a3"
      },
      "execution_count": 14,
      "outputs": [
        {
          "output_type": "stream",
          "name": "stdout",
          "text": [
            "(150, 150, 3)\n",
            "1/1 [==============================] - 0s 153ms/step\n"
          ]
        }
      ]
    },
    {
      "cell_type": "code",
      "source": [
        "\n",
        "if class_prediction == 'Basale':\n",
        "    print('Basale: Basale has an anti-inflammatory activity and wound healing ability. It can be helpful as a first aid, and the leaves of this plant can be crushed and applied to burns, scalds and wounds to help in healing of the wounds.')\n",
        "if class_prediction == 'Guava':\n",
        "    print('Guava: Aside from bearing a delicious taste, the fruit of the Guava tree is a rich source of Vitamin C and antioxidants. It is especially effective against preventing infections such as Gastrointestinal infections, Respiratory infections, Oral/dental infections and Skin infections. It can also aid in the treatment of Hypertension, Fever, Pain, Liver and Kidney problems. ')\n",
        "if class_prediction == 'Neem':\n",
        "    print('Neem: Prevalent in traditional remedies from a long time, Neem is considered as a boon for Mankind. It helps to cure many skin diseases such as Acne, fungal infections, dandruff, leprosy, and also nourishes and detoxifies the skin. It also boosts your immunity and act as an Insect and Mosquito Repellent. It helps to reduce joint paint as well and prevents Gastrointestinal Diseases')\n",
        "if class_prediction == 'Sandalwood':\n",
        "    print('Sandalwood: Sandalwood is used for treating the common cold, cough, bronchitis, fever, and sore mouth and throat. It is also used to treat urinary tract infections (UTIs), liver disease, gallbladder problems, heatstroke, gonorrhea, headache, and conditions of the heart and blood vessels (cardiovascular disease).')\n",
        "if class_prediction == 'Tulsi':\n",
        "    print('Tulsi: Tulsi plant has the potential to cure a lot of ailments, and is used a lot in traditional remedies. Tulsi can help cure fever, to treat skin problems like acne, blackheads and premature ageing, to treat insect bites. Tulsi is also used to treat heart disease and fever, and respiratory problems.')\n"
      ],
      "metadata": {
        "id": "3n0XBqHAoVTT",
        "colab": {
          "base_uri": "https://localhost:8080/"
        },
        "outputId": "7093e58b-dfd7-4654-aba3-cad4ef156763"
      },
      "execution_count": 15,
      "outputs": [
        {
          "output_type": "stream",
          "name": "stdout",
          "text": [
            "Tulsi: Tulsi plant has the potential to cure a lot of ailments, and is used a lot in traditional remedies. Tulsi can help cure fever, to treat skin problems like acne, blackheads and premature ageing, to treat insect bites. Tulsi is also used to treat heart disease and fever, and respiratory problems.\n"
          ]
        }
      ]
    },
    {
      "cell_type": "code",
      "source": [],
      "metadata": {
        "id": "ydkK3b0C--Fi"
      },
      "execution_count": null,
      "outputs": []
    }
  ]
}