{
  "nbformat": 4,
  "nbformat_minor": 0,
  "metadata": {
    "colab": {
      "provenance": []
    },
    "kernelspec": {
      "name": "python3",
      "display_name": "Python 3"
    },
    "language_info": {
      "name": "python"
    }
  },
  "cells": [
    {
      "cell_type": "code",
      "execution_count": 1,
      "metadata": {
        "id": "JV3O5H8ikgh8"
      },
      "outputs": [],
      "source": [
        "import os\n",
        "from tensorflow.keras.optimizers import Adam\n",
        "from tensorflow.keras.models import Sequential\n",
        "from tensorflow.keras.models import load_model\n",
        "from tensorflow.keras.preprocessing.image import ImageDataGenerator\n",
        "from tensorflow.keras.callbacks import ModelCheckpoint, ReduceLROnPlateau, CSVLogger, EarlyStopping\n",
        "from tensorflow.keras.layers import Conv2D, MaxPooling2D, Flatten, Dense, Dropout\n",
        "import tensorflow as tf"
      ]
    },
    {
      "cell_type": "code",
      "source": [
        "from google.colab import drive\n",
        "drive.mount(\"/content/gdrive\", force_remount=True)\n"
      ],
      "metadata": {
        "colab": {
          "base_uri": "https://localhost:8080/"
        },
        "id": "UCF9q4F4k4Mg",
        "outputId": "68caf5f2-ddcd-4d6d-eff3-d1170133abe4"
      },
      "execution_count": 2,
      "outputs": [
        {
          "output_type": "stream",
          "name": "stdout",
          "text": [
            "Mounted at /content/gdrive\n"
          ]
        }
      ]
    },
    {
      "cell_type": "code",
      "source": [
        "%cd /content/gdrive/MyDrive/"
      ],
      "metadata": {
        "colab": {
          "base_uri": "https://localhost:8080/"
        },
        "id": "axyjRDIsmwUG",
        "outputId": "800099d7-6c42-4f11-c6fb-dcb806f7c52b"
      },
      "execution_count": 3,
      "outputs": [
        {
          "output_type": "stream",
          "name": "stdout",
          "text": [
            "/content/gdrive/MyDrive\n"
          ]
        }
      ]
    },
    {
      "cell_type": "code",
      "source": [
        "class_names = ['Basale',\n",
        "               'Guava',\n",
        "               'Neem',\n",
        "               'Sandalwood',\n",
        "               'Tulsi']\n",
        "# class_names_label = {class_name:i for i, class_name in enumerate(class_names)}\n",
        "\n",
        "# nb_classes = len(class_names)\n",
        "\n",
        "# IMAGE_SIZE = (150, 150)"
      ],
      "metadata": {
        "id": "LlZH3G__vYhc"
      },
      "execution_count": 4,
      "outputs": []
    },
    {
      "cell_type": "code",
      "source": [
        "trainDataGen = ImageDataGenerator(rotation_range=5,\n",
        "                                  width_shift_range=0.1,\n",
        "                                  height_shift_range=0.1,\n",
        "                                  rescale=1.0 / 255,\n",
        "                                  shear_range=0.2,\n",
        "                                  zoom_range=0.2,\n",
        "                                  horizontal_flip=False,\n",
        "                                  fill_mode='nearest')\n",
        "\n",
        "testDataGen = ImageDataGenerator(rescale=1.0 / 255)\n",
        "\n",
        "trainGenerator = trainDataGen.flow_from_directory(os.path.join('Dataset', 'Train'),\n",
        "                                                  target_size=(150, 150),\n",
        "                                                  batch_size=32,\n",
        "                                                  color_mode='rgb',\n",
        "                                                  classes=[str(Class)\n",
        "                                                           for Class in range(5)],\n",
        "                                                  class_mode='categorical')\n",
        "\n",
        "validationGenerator = testDataGen.flow_from_directory(os.path.join('Dataset', 'Validation'),\n",
        "                                                      target_size=(150, 150),\n",
        "                                                      batch_size=32,\n",
        "                                                      color_mode='rgb',\n",
        "                                                      classes=[\n",
        "                                                          str(Class) for Class in range(5)],\n",
        "                                                      class_mode='categorical')"
      ],
      "metadata": {
        "colab": {
          "base_uri": "https://localhost:8080/"
        },
        "id": "cXZqla24k3Dn",
        "outputId": "03dfad53-ca57-4bb3-fefb-7ffca66fd2e8"
      },
      "execution_count": 5,
      "outputs": [
        {
          "output_type": "stream",
          "name": "stdout",
          "text": [
            "Found 303 images belonging to 5 classes.\n",
            "Found 35 images belonging to 5 classes.\n"
          ]
        }
      ]
    },
    {
      "cell_type": "code",
      "source": [
        "\n",
        "model = Sequential()\n",
        "\n",
        "model.add(Conv2D(128, (3, 3), strides=1,\n",
        "          activation='relu', input_shape=(150, 150, 3)))\n",
        "model.add(MaxPooling2D((2, 2), strides=(2, 2), padding='same'))\n",
        "\n",
        "model.add(Conv2D(128, (3, 3), strides=1, activation='relu'))\n",
        "model.add(MaxPooling2D((2, 2), strides=(2, 2), padding='same'))\n",
        "\n",
        "model.add(Conv2D(128, (3, 3), strides=1, activation='relu'))\n",
        "model.add(MaxPooling2D((2, 2), strides=(2, 2), padding='same'))\n",
        "\n",
        "model.add(Flatten())\n",
        "\n",
        "model.add(Dense(128, activation='relu', kernel_initializer='he_uniform'))\n",
        "model.add(Dropout(0.1))\n",
        "\n",
        "model.add(Dense(100, activation='relu', kernel_initializer='he_uniform'))\n",
        "model.add(Dropout(0.1))\n",
        "\n",
        "model.add(Dense(5, activation='softmax'))\n",
        "\n",
        "model.compile(optimizer=Adam(learning_rate=1e-3, decay=1e-5),\n",
        "              loss='categorical_crossentropy', metrics=['accuracy'])"
      ],
      "metadata": {
        "id": "XSQNRl5HluXn"
      },
      "execution_count": 6,
      "outputs": []
    },
    {
      "cell_type": "code",
      "source": [
        "\n",
        "if not os.path.isdir('Model_1'):\n",
        "    os.mkdir('Model_1')\n",
        "\n",
        "callbacks = [ReduceLROnPlateau(monitor='val_loss', factor=0.1,\n",
        "                               patience=7, min_lr=1e-5),\n",
        "             EarlyStopping(monitor='val_loss', patience=9,  # Patience should be larger than the one in ReduceLROnPlateau\n",
        "                           min_delta=1e-5),\n",
        "             CSVLogger(os.path.join('Model_1', 'training.log'), append=True),\n",
        "             ModelCheckpoint(os.path.join(\n",
        "                 'Model_1', 'backup_last_model.hdf5')),\n",
        "             ModelCheckpoint(os.path.join('Model_1', 'best_val_acc.hdf5'),\n",
        "                             monitor='val_accuracy', mode='max', save_best_only=True),\n",
        "             ModelCheckpoint(os.path.join('Model_1', 'best_val_loss.hdf5'), monitor='val_loss', mode='min', save_best_only=True)]\n",
        "\n",
        "model.fit(trainGenerator, epochs=20,\n",
        "          validation_data=validationGenerator, callbacks=callbacks)\n"
      ],
      "metadata": {
        "colab": {
          "base_uri": "https://localhost:8080/"
        },
        "id": "1NXVpy9Wl9Sb",
        "outputId": "7d7abed8-2697-4071-a7b0-ede4fdc46680"
      },
      "execution_count": 7,
      "outputs": [
        {
          "output_type": "stream",
          "name": "stdout",
          "text": [
            "Epoch 1/20\n",
            "10/10 [==============================] - 101s 10s/step - loss: 1.7283 - accuracy: 0.2640 - val_loss: 1.5761 - val_accuracy: 0.2000 - lr: 0.0010\n",
            "Epoch 2/20\n",
            "10/10 [==============================] - 57s 6s/step - loss: 1.5165 - accuracy: 0.3333 - val_loss: 1.3616 - val_accuracy: 0.5429 - lr: 0.0010\n",
            "Epoch 3/20\n",
            "10/10 [==============================] - 59s 6s/step - loss: 1.3376 - accuracy: 0.4587 - val_loss: 0.9805 - val_accuracy: 0.7429 - lr: 0.0010\n",
            "Epoch 4/20\n",
            "10/10 [==============================] - 54s 5s/step - loss: 1.1659 - accuracy: 0.5083 - val_loss: 1.0947 - val_accuracy: 0.5714 - lr: 0.0010\n",
            "Epoch 5/20\n",
            "10/10 [==============================] - 54s 5s/step - loss: 1.0655 - accuracy: 0.5941 - val_loss: 0.6267 - val_accuracy: 0.7714 - lr: 0.0010\n",
            "Epoch 6/20\n",
            "10/10 [==============================] - 55s 5s/step - loss: 0.9570 - accuracy: 0.6469 - val_loss: 0.7008 - val_accuracy: 0.7429 - lr: 0.0010\n",
            "Epoch 7/20\n",
            "10/10 [==============================] - 54s 5s/step - loss: 0.8782 - accuracy: 0.6700 - val_loss: 0.5118 - val_accuracy: 0.8286 - lr: 0.0010\n",
            "Epoch 8/20\n",
            "10/10 [==============================] - 55s 5s/step - loss: 0.7243 - accuracy: 0.7294 - val_loss: 0.5018 - val_accuracy: 0.8000 - lr: 0.0010\n",
            "Epoch 9/20\n",
            "10/10 [==============================] - 54s 6s/step - loss: 0.6214 - accuracy: 0.7855 - val_loss: 0.2756 - val_accuracy: 0.9429 - lr: 0.0010\n",
            "Epoch 10/20\n",
            "10/10 [==============================] - 54s 5s/step - loss: 0.5779 - accuracy: 0.7591 - val_loss: 0.2926 - val_accuracy: 0.9143 - lr: 0.0010\n",
            "Epoch 11/20\n",
            "10/10 [==============================] - 52s 5s/step - loss: 0.4736 - accuracy: 0.8449 - val_loss: 0.3087 - val_accuracy: 0.8571 - lr: 0.0010\n",
            "Epoch 12/20\n",
            "10/10 [==============================] - 55s 5s/step - loss: 0.5674 - accuracy: 0.7987 - val_loss: 0.3657 - val_accuracy: 0.9143 - lr: 0.0010\n",
            "Epoch 13/20\n",
            "10/10 [==============================] - 55s 5s/step - loss: 0.5306 - accuracy: 0.8020 - val_loss: 0.3204 - val_accuracy: 0.9143 - lr: 0.0010\n",
            "Epoch 14/20\n",
            "10/10 [==============================] - 52s 5s/step - loss: 0.4434 - accuracy: 0.8449 - val_loss: 0.3885 - val_accuracy: 0.8857 - lr: 0.0010\n",
            "Epoch 15/20\n",
            "10/10 [==============================] - 54s 5s/step - loss: 0.4244 - accuracy: 0.8515 - val_loss: 0.3698 - val_accuracy: 0.8571 - lr: 0.0010\n",
            "Epoch 16/20\n",
            "10/10 [==============================] - 54s 5s/step - loss: 0.4102 - accuracy: 0.8680 - val_loss: 0.1140 - val_accuracy: 1.0000 - lr: 0.0010\n",
            "Epoch 17/20\n",
            "10/10 [==============================] - 54s 5s/step - loss: 0.2836 - accuracy: 0.9043 - val_loss: 0.2353 - val_accuracy: 0.9143 - lr: 0.0010\n",
            "Epoch 18/20\n",
            "10/10 [==============================] - 52s 5s/step - loss: 0.2724 - accuracy: 0.9109 - val_loss: 0.1515 - val_accuracy: 0.9429 - lr: 0.0010\n",
            "Epoch 19/20\n",
            "10/10 [==============================] - 52s 5s/step - loss: 0.2402 - accuracy: 0.9340 - val_loss: 0.2514 - val_accuracy: 0.9143 - lr: 0.0010\n",
            "Epoch 20/20\n",
            "10/10 [==============================] - 54s 5s/step - loss: 0.3463 - accuracy: 0.8812 - val_loss: 0.6982 - val_accuracy: 0.8000 - lr: 0.0010\n"
          ]
        },
        {
          "output_type": "execute_result",
          "data": {
            "text/plain": [
              "<keras.callbacks.History at 0x7f738d0e54c0>"
            ]
          },
          "metadata": {},
          "execution_count": 7
        }
      ]
    },
    {
      "cell_type": "code",
      "source": [
        "model = load_model(os.path.join('Model_1', 'best_val_loss.hdf5'))\n",
        "loss, acc = model.evaluate(validationGenerator)\n",
        "print('Loss on Validation Data : ', loss)\n",
        "print('Accuracy on Validation Data :', '{:.4%}'.format(acc))"
      ],
      "metadata": {
        "colab": {
          "base_uri": "https://localhost:8080/"
        },
        "id": "TBs5gtmxl-Nk",
        "outputId": "c291bcbe-6bf0-4179-ef26-8214c61606e3"
      },
      "execution_count": 8,
      "outputs": [
        {
          "output_type": "stream",
          "name": "stdout",
          "text": [
            "2/2 [==============================] - 2s 120ms/step - loss: 0.1140 - accuracy: 1.0000\n",
            "Loss on Validation Data :  0.11400207877159119\n",
            "Accuracy on Validation Data : 100.0000%\n"
          ]
        }
      ]
    },
    {
      "cell_type": "code",
      "source": [
        "import numpy as np\n",
        "import PIL.ImageOps as ImageOps\n",
        "import PIL.Image as Image\n",
        "import matplotlib.pyplot as plt"
      ],
      "metadata": {
        "id": "zDvrv0BZogHb"
      },
      "execution_count": 9,
      "outputs": []
    },
    {
      "cell_type": "code",
      "source": [],
      "metadata": {
        "id": "YBvgaFK7r2HT"
      },
      "execution_count": null,
      "outputs": []
    },
    {
      "cell_type": "code",
      "source": [
        "data = np.ndarray(shape=(1, 150, 150, 3), dtype=np.float32)\n",
        "\n",
        "class_names = ['Basale',\n",
        "               'Guava',\n",
        "               'Neem',\n",
        "               'Sandalwood',\n",
        "               'Tulsi']\n",
        "image = Image.open('/content/gdrive/MyDrive/plant_dataset/Neem/AI-S-008.jpg')\n",
        "#image sizing\n",
        "# image = ImageOps.grayscale(image)\n",
        "\n",
        "size = (150, 150)\n",
        "image = ImageOps.fit(image, size, Image.ANTIALIAS)\n",
        "\n",
        "#turn the image into a numpy array\n",
        "image_array = np.asarray(image)\n",
        "# np.reshape(image_array, newshape=(150, 150,3))\n",
        "# Normalize the image\n",
        "normalized_image_array = (image_array.astype(np.float32) / 127.0) - 1\n",
        "print(normalized_image_array.shape)\n",
        "# Load the image into the array\n",
        "data[0] = normalized_image_array\n",
        "\n",
        "# run the inference\n",
        "prediction = model.predict(data)\n",
        "pred_label = np.argmax(prediction, axis = 1) # We take the highest probability\n",
        "class_prediction = class_names[pred_label[0]]"
      ],
      "metadata": {
        "colab": {
          "base_uri": "https://localhost:8080/"
        },
        "id": "sOI-ncjHoIhs",
        "outputId": "b772ca26-0ca8-405e-8e96-dad9b34f0024"
      },
      "execution_count": 10,
      "outputs": [
        {
          "output_type": "stream",
          "name": "stdout",
          "text": [
            "(150, 150, 3)\n",
            "1/1 [==============================] - 0s 199ms/step\n"
          ]
        }
      ]
    },
    {
      "cell_type": "code",
      "source": [
        "\n",
        "if class_prediction == 'Basale':\n",
        "    print('Basale: Basale has an anti-inflammatory activity and wound healing ability. It can be helpful as a first aid, and the leaves of this plant can be crushed and applied to burns, scalds and wounds to help in healing of the wounds.')\n",
        "if class_prediction == 'Guava':\n",
        "    print('Guava: Aside from bearing a delicious taste, the fruit of the Guava tree is a rich source of Vitamin C and antioxidants. It is especially effective against preventing infections such as Gastrointestinal infections, Respiratory infections, Oral/dental infections and Skin infections. It can also aid in the treatment of Hypertension, Fever, Pain, Liver and Kidney problems. ')\n",
        "if class_prediction == 'Neem':\n",
        "    print('Neem: Prevalent in traditional remedies from a long time, Neem is considered as a boon for Mankind. It helps to cure many skin diseases such as Acne, fungal infections, dandruff, leprosy, and also nourishes and detoxifies the skin. It also boosts your immunity and act as an Insect and Mosquito Repellent. It helps to reduce joint paint as well and prevents Gastrointestinal Diseases')\n",
        "if class_prediction == 'Sandalwood':\n",
        "    print('Sandalwood: Sandalwood is used for treating the common cold, cough, bronchitis, fever, and sore mouth and throat. It is also used to treat urinary tract infections (UTIs), liver disease, gallbladder problems, heatstroke, gonorrhea, headache, and conditions of the heart and blood vessels (cardiovascular disease).')\n",
        "if class_prediction == 'Tulsi':\n",
        "    print('Tulsi: Tulsi plant has the potential to cure a lot of ailments, and is used a lot in traditional remedies. Tulsi can help cure fever, to treat skin problems like acne, blackheads and premature ageing, to treat insect bites. Tulsi is also used to treat heart disease and fever, and respiratory problems.')\n"
      ],
      "metadata": {
        "id": "3n0XBqHAoVTT",
        "colab": {
          "base_uri": "https://localhost:8080/"
        },
        "outputId": "72bd3e01-89a6-48cb-a1bd-0e4c96e87a27"
      },
      "execution_count": 11,
      "outputs": [
        {
          "output_type": "stream",
          "name": "stdout",
          "text": [
            "Neem: Prevalent in traditional remedies from a long time, Neem is considered as a boon for Mankind. It helps to cure many skin diseases such as Acne, fungal infections, dandruff, leprosy, and also nourishes and detoxifies the skin. It also boosts your immunity and act as an Insect and Mosquito Repellent. It helps to reduce joint paint as well and prevents Gastrointestinal Diseases\n"
          ]
        }
      ]
    },
    {
      "cell_type": "code",
      "source": [],
      "metadata": {
        "id": "ydkK3b0C--Fi"
      },
      "execution_count": null,
      "outputs": []
    }
  ]
}